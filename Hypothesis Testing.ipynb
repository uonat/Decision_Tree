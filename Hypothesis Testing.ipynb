{
 "cells": [
  {
   "cell_type": "code",
   "execution_count": 1,
   "metadata": {},
   "outputs": [],
   "source": [
    "import pandas as pd\n",
    "from pandas import *  \n",
    "import numpy as np  \n",
    "import matplotlib.pyplot as plt  \n",
    "import seaborn\n",
    "get_ipython().run_line_magic('matplotlib', 'inline')\n",
    "import warnings\n",
    "warnings.filterwarnings('ignore')\n",
    "\n",
    "file=r'C:\\datas22.csv'\n",
    "data_education=pd.read_csv(file, sep=';')\n",
    "data_education_NoMissing=data_education.drop(data_education.columns[1:4], axis=1)\n",
    "data_education_NoMissing=data_education_NoMissing.drop(data_education_NoMissing.columns[2:], axis=1)\n",
    "data_education_NoMissing=data_education_NoMissing.dropna()\n",
    "data_education_NoMissing.rename(columns={\"LOCATION\":\"Country\",\"Education Rate\":\"EducationRate\"}, inplace=True)\n",
    "data_education_NoMissing.index=list(range(len(data_education_NoMissing)))\n",
    "data_education_NoMissing.index\n",
    "\n",
    "\n",
    "file1=r'C:\\WomanViolence.csv'\n",
    "data_violence=pd.read_csv(file1, sep=';')\n",
    "data_violence=data_violence.drop(['TIME'] , axis=1)\n",
    "data_violence_NoMissing=data_violence.dropna()\n",
    "data_violence_NoMissing.rename(columns={\"LOCATION\":\"Country\",\"Rate\":\"ViolenceRate\"}, inplace=True)\n",
    "data_violence_NoMissing.index=list(range(len(data_violence_NoMissing)))\n",
    "data_violence_NoMissing.index\n",
    "data= pd.merge(left=data_education_NoMissing, right=data_violence_NoMissing , on=['Country'] , how= 'left')\n",
    "\n",
    "\n",
    "file2=r'C:\\ER2.csv'\n",
    "data_er=pd.read_csv(file2,sep = ';')\n",
    "data1=pd.merge(left=data , right = data_er,on=['Country'] , how= 'left')\n",
    "data1=data1.drop(['Country'],axis=1)\n",
    "data1=data1.dropna()\n",
    "columnsTitles=[\"EducationRate\",\"GDPpercapita\",\"ViolenceRate\"]\n",
    "data1=data1.reindex(columns=columnsTitles)\n",
    "data1=data1.reset_index(drop=True)\n"
   ]
  },
  {
   "cell_type": "code",
   "execution_count": 2,
   "metadata": {},
   "outputs": [
    {
     "name": "stdout",
     "output_type": "stream",
     "text": [
      "   EducationRate  GDPpercapita  ViolenceRate\n",
      "0          106.3  51733.481920             4\n",
      "1           80.7  14139.269430             6\n",
      "2           97.2   5045.769926            11\n",
      "3           71.0  57543.669060             7\n",
      "4           63.2   1740.915011            20\n"
     ]
    },
    {
     "data": {
      "text/html": [
       "<div>\n",
       "<style scoped>\n",
       "    .dataframe tbody tr th:only-of-type {\n",
       "        vertical-align: middle;\n",
       "    }\n",
       "\n",
       "    .dataframe tbody tr th {\n",
       "        vertical-align: top;\n",
       "    }\n",
       "\n",
       "    .dataframe thead th {\n",
       "        text-align: right;\n",
       "    }\n",
       "</style>\n",
       "<table border=\"1\" class=\"dataframe\">\n",
       "  <thead>\n",
       "    <tr style=\"text-align: right;\">\n",
       "      <th></th>\n",
       "      <th>EducationRate</th>\n",
       "      <th>GDPpercapita</th>\n",
       "      <th>ViolenceRate</th>\n",
       "    </tr>\n",
       "  </thead>\n",
       "  <tbody>\n",
       "    <tr>\n",
       "      <th>EducationRate</th>\n",
       "      <td>1.000000</td>\n",
       "      <td>0.204038</td>\n",
       "      <td>-0.737920</td>\n",
       "    </tr>\n",
       "    <tr>\n",
       "      <th>GDPpercapita</th>\n",
       "      <td>0.204038</td>\n",
       "      <td>1.000000</td>\n",
       "      <td>-0.009995</td>\n",
       "    </tr>\n",
       "    <tr>\n",
       "      <th>ViolenceRate</th>\n",
       "      <td>-0.737920</td>\n",
       "      <td>-0.009995</td>\n",
       "      <td>1.000000</td>\n",
       "    </tr>\n",
       "  </tbody>\n",
       "</table>\n",
       "</div>"
      ],
      "text/plain": [
       "               EducationRate  GDPpercapita  ViolenceRate\n",
       "EducationRate       1.000000      0.204038     -0.737920\n",
       "GDPpercapita        0.204038      1.000000     -0.009995\n",
       "ViolenceRate       -0.737920     -0.009995      1.000000"
      ]
     },
     "execution_count": 2,
     "metadata": {},
     "output_type": "execute_result"
    }
   ],
   "source": [
    "print(data1.head())\n",
    "corrData=data1.corr()\n",
    "corrData"
   ]
  },
  {
   "cell_type": "code",
   "execution_count": 3,
   "metadata": {},
   "outputs": [
    {
     "data": {
      "image/png": "[encoded data removed]",
      "text/plain": [
       "<matplotlib.figure.Figure at 0x14384dab7b8>"
      ]
     },
     "metadata": {},
     "output_type": "display_data"
    }
   ],
   "source": [
    "plt.figure(figsize=(3,3))\n",
    "plt.pcolor(corrData) # the matrix is visualized below\n",
    "plt.colorbar();"
   ]
  },
  {
   "cell_type": "code",
   "execution_count": 4,
   "metadata": {},
   "outputs": [
    {
     "data": {
      "text/plain": [
       "<matplotlib.axes._subplots.AxesSubplot at 0x14388502710>"
      ]
     },
     "execution_count": 4,
     "metadata": {},
     "output_type": "execute_result"
    },
    {
     "data": {
      "image/png": "[encoded data removed]",
      "text/plain": [
       "<matplotlib.figure.Figure at 0x14388540668>"
      ]
     },
     "metadata": {},
     "output_type": "display_data"
    }
   ],
   "source": [
    "import seaborn as sns\n",
    "fig = plt.figure(figsize=(3,3))\n",
    "sns.heatmap(corrData)"
   ]
  },
  {
   "cell_type": "code",
   "execution_count": null,
   "metadata": {},
   "outputs": [],
   "source": []
  }
 ],
 "metadata": {
  "kernelspec": {
   "display_name": "Python 3",
   "language": "python",
   "name": "python3"
  },
  "language_info": {
   "codemirror_mode": {
    "name": "ipython",
    "version": 3
   },
   "file_extension": ".py",
   "mimetype": "text/x-python",
   "name": "python",
   "nbconvert_exporter": "python",
   "pygments_lexer": "ipython3",
   "version": "3.6.4"
  }
 },
 "nbformat": 4,
 "nbformat_minor": 2
}
