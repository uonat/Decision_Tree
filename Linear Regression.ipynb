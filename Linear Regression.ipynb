{
 "cells": [
  {
   "cell_type": "code",
   "execution_count": 1,
   "metadata": {},
   "outputs": [
    {
     "data": {
      "text/html": [
       "<div>\n",
       "<style scoped>\n",
       "    .dataframe tbody tr th:only-of-type {\n",
       "        vertical-align: middle;\n",
       "    }\n",
       "\n",
       "    .dataframe tbody tr th {\n",
       "        vertical-align: top;\n",
       "    }\n",
       "\n",
       "    .dataframe thead th {\n",
       "        text-align: right;\n",
       "    }\n",
       "</style>\n",
       "<table border=\"1\" class=\"dataframe\">\n",
       "  <thead>\n",
       "    <tr style=\"text-align: right;\">\n",
       "      <th></th>\n",
       "      <th>EducationRate</th>\n",
       "      <th>GDPpercapita</th>\n",
       "      <th>ViolenceRate</th>\n",
       "    </tr>\n",
       "  </thead>\n",
       "  <tbody>\n",
       "    <tr>\n",
       "      <th>0</th>\n",
       "      <td>106.3</td>\n",
       "      <td>51733.481920</td>\n",
       "      <td>4</td>\n",
       "    </tr>\n",
       "    <tr>\n",
       "      <th>1</th>\n",
       "      <td>80.7</td>\n",
       "      <td>14139.269430</td>\n",
       "      <td>6</td>\n",
       "    </tr>\n",
       "    <tr>\n",
       "      <th>2</th>\n",
       "      <td>97.2</td>\n",
       "      <td>5045.769926</td>\n",
       "      <td>11</td>\n",
       "    </tr>\n",
       "    <tr>\n",
       "      <th>3</th>\n",
       "      <td>71.0</td>\n",
       "      <td>57543.669060</td>\n",
       "      <td>7</td>\n",
       "    </tr>\n",
       "    <tr>\n",
       "      <th>4</th>\n",
       "      <td>63.2</td>\n",
       "      <td>1740.915011</td>\n",
       "      <td>20</td>\n",
       "    </tr>\n",
       "    <tr>\n",
       "      <th>5</th>\n",
       "      <td>60.0</td>\n",
       "      <td>5943.034472</td>\n",
       "      <td>9</td>\n",
       "    </tr>\n",
       "    <tr>\n",
       "      <th>6</th>\n",
       "      <td>73.4</td>\n",
       "      <td>4855.800481</td>\n",
       "      <td>7</td>\n",
       "    </tr>\n",
       "    <tr>\n",
       "      <th>7</th>\n",
       "      <td>60.8</td>\n",
       "      <td>12806.565110</td>\n",
       "      <td>14</td>\n",
       "    </tr>\n",
       "    <tr>\n",
       "      <th>8</th>\n",
       "      <td>30.0</td>\n",
       "      <td>3461.781164</td>\n",
       "      <td>16</td>\n",
       "    </tr>\n",
       "    <tr>\n",
       "      <th>9</th>\n",
       "      <td>91.8</td>\n",
       "      <td>97199.919100</td>\n",
       "      <td>9</td>\n",
       "    </tr>\n",
       "    <tr>\n",
       "      <th>10</th>\n",
       "      <td>94.0</td>\n",
       "      <td>38778.074180</td>\n",
       "      <td>9</td>\n",
       "    </tr>\n",
       "    <tr>\n",
       "      <th>11</th>\n",
       "      <td>91.4</td>\n",
       "      <td>706.238698</td>\n",
       "      <td>11</td>\n",
       "    </tr>\n",
       "    <tr>\n",
       "      <th>12</th>\n",
       "      <td>82.5</td>\n",
       "      <td>1806.047295</td>\n",
       "      <td>10</td>\n",
       "    </tr>\n",
       "    <tr>\n",
       "      <th>13</th>\n",
       "      <td>96.9</td>\n",
       "      <td>19949.581380</td>\n",
       "      <td>10</td>\n",
       "    </tr>\n",
       "    <tr>\n",
       "      <th>14</th>\n",
       "      <td>75.9</td>\n",
       "      <td>3379.896499</td>\n",
       "      <td>12</td>\n",
       "    </tr>\n",
       "    <tr>\n",
       "      <th>15</th>\n",
       "      <td>80.1</td>\n",
       "      <td>3415.813158</td>\n",
       "      <td>25</td>\n",
       "    </tr>\n",
       "    <tr>\n",
       "      <th>16</th>\n",
       "      <td>64.1</td>\n",
       "      <td>4429.650075</td>\n",
       "      <td>12</td>\n",
       "    </tr>\n",
       "    <tr>\n",
       "      <th>17</th>\n",
       "      <td>73.8</td>\n",
       "      <td>42294.994730</td>\n",
       "      <td>30</td>\n",
       "    </tr>\n",
       "    <tr>\n",
       "      <th>18</th>\n",
       "      <td>41.9</td>\n",
       "      <td>6301.919127</td>\n",
       "      <td>52</td>\n",
       "    </tr>\n",
       "    <tr>\n",
       "      <th>19</th>\n",
       "      <td>102.9</td>\n",
       "      <td>3994.712355</td>\n",
       "      <td>4</td>\n",
       "    </tr>\n",
       "    <tr>\n",
       "      <th>20</th>\n",
       "      <td>48.5</td>\n",
       "      <td>11598.751740</td>\n",
       "      <td>9</td>\n",
       "    </tr>\n",
       "    <tr>\n",
       "      <th>21</th>\n",
       "      <td>24.7</td>\n",
       "      <td>312.748979</td>\n",
       "      <td>22</td>\n",
       "    </tr>\n",
       "    <tr>\n",
       "      <th>22</th>\n",
       "      <td>11.4</td>\n",
       "      <td>7853.335191</td>\n",
       "      <td>33</td>\n",
       "    </tr>\n",
       "    <tr>\n",
       "      <th>23</th>\n",
       "      <td>101.9</td>\n",
       "      <td>4852.223666</td>\n",
       "      <td>4</td>\n",
       "    </tr>\n",
       "    <tr>\n",
       "      <th>24</th>\n",
       "      <td>56.7</td>\n",
       "      <td>16261.799320</td>\n",
       "      <td>15</td>\n",
       "    </tr>\n",
       "    <tr>\n",
       "      <th>25</th>\n",
       "      <td>79.0</td>\n",
       "      <td>24983.379020</td>\n",
       "      <td>21</td>\n",
       "    </tr>\n",
       "    <tr>\n",
       "      <th>26</th>\n",
       "      <td>11.8</td>\n",
       "      <td>1619.342566</td>\n",
       "      <td>46</td>\n",
       "    </tr>\n",
       "    <tr>\n",
       "      <th>27</th>\n",
       "      <td>92.3</td>\n",
       "      <td>7683.502613</td>\n",
       "      <td>12</td>\n",
       "    </tr>\n",
       "    <tr>\n",
       "      <th>28</th>\n",
       "      <td>57.1</td>\n",
       "      <td>852.954308</td>\n",
       "      <td>11</td>\n",
       "    </tr>\n",
       "    <tr>\n",
       "      <th>29</th>\n",
       "      <td>86.7</td>\n",
       "      <td>571.162276</td>\n",
       "      <td>18</td>\n",
       "    </tr>\n",
       "    <tr>\n",
       "      <th>...</th>\n",
       "      <td>...</td>\n",
       "      <td>...</td>\n",
       "      <td>...</td>\n",
       "    </tr>\n",
       "    <tr>\n",
       "      <th>49</th>\n",
       "      <td>66.0</td>\n",
       "      <td>1818.180685</td>\n",
       "      <td>11</td>\n",
       "    </tr>\n",
       "    <tr>\n",
       "      <th>50</th>\n",
       "      <td>3.6</td>\n",
       "      <td>4709.312024</td>\n",
       "      <td>90</td>\n",
       "    </tr>\n",
       "    <tr>\n",
       "      <th>51</th>\n",
       "      <td>85.4</td>\n",
       "      <td>703.821657</td>\n",
       "      <td>16</td>\n",
       "    </tr>\n",
       "    <tr>\n",
       "      <th>52</th>\n",
       "      <td>9.2</td>\n",
       "      <td>7497.762378</td>\n",
       "      <td>68</td>\n",
       "    </tr>\n",
       "    <tr>\n",
       "      <th>53</th>\n",
       "      <td>27.8</td>\n",
       "      <td>377.132027</td>\n",
       "      <td>17</td>\n",
       "    </tr>\n",
       "    <tr>\n",
       "      <th>54</th>\n",
       "      <td>3.2</td>\n",
       "      <td>1084.565430</td>\n",
       "      <td>44</td>\n",
       "    </tr>\n",
       "    <tr>\n",
       "      <th>55</th>\n",
       "      <td>2.4</td>\n",
       "      <td>47379.173920</td>\n",
       "      <td>73</td>\n",
       "    </tr>\n",
       "    <tr>\n",
       "      <th>56</th>\n",
       "      <td>14.0</td>\n",
       "      <td>461.568085</td>\n",
       "      <td>47</td>\n",
       "    </tr>\n",
       "    <tr>\n",
       "      <th>57</th>\n",
       "      <td>1.5</td>\n",
       "      <td>50453.515350</td>\n",
       "      <td>80</td>\n",
       "    </tr>\n",
       "    <tr>\n",
       "      <th>58</th>\n",
       "      <td>1.1</td>\n",
       "      <td>6368.934262</td>\n",
       "      <td>62</td>\n",
       "    </tr>\n",
       "    <tr>\n",
       "      <th>59</th>\n",
       "      <td>58.8</td>\n",
       "      <td>5466.425778</td>\n",
       "      <td>4</td>\n",
       "    </tr>\n",
       "    <tr>\n",
       "      <th>60</th>\n",
       "      <td>45.3</td>\n",
       "      <td>3327.754247</td>\n",
       "      <td>25</td>\n",
       "    </tr>\n",
       "    <tr>\n",
       "      <th>61</th>\n",
       "      <td>20.2</td>\n",
       "      <td>34361.080220</td>\n",
       "      <td>7</td>\n",
       "    </tr>\n",
       "    <tr>\n",
       "      <th>62</th>\n",
       "      <td>6.7</td>\n",
       "      <td>434.465647</td>\n",
       "      <td>92</td>\n",
       "    </tr>\n",
       "    <tr>\n",
       "      <th>63</th>\n",
       "      <td>24.4</td>\n",
       "      <td>920.526235</td>\n",
       "      <td>16</td>\n",
       "    </tr>\n",
       "    <tr>\n",
       "      <th>64</th>\n",
       "      <td>46.3</td>\n",
       "      <td>38096.211510</td>\n",
       "      <td>70</td>\n",
       "    </tr>\n",
       "    <tr>\n",
       "      <th>65</th>\n",
       "      <td>33.0</td>\n",
       "      <td>9891.404494</td>\n",
       "      <td>39</td>\n",
       "    </tr>\n",
       "    <tr>\n",
       "      <th>66</th>\n",
       "      <td>45.7</td>\n",
       "      <td>458.465173</td>\n",
       "      <td>10</td>\n",
       "    </tr>\n",
       "    <tr>\n",
       "      <th>67</th>\n",
       "      <td>11.7</td>\n",
       "      <td>8805.624984</td>\n",
       "      <td>37</td>\n",
       "    </tr>\n",
       "    <tr>\n",
       "      <th>68</th>\n",
       "      <td>4.6</td>\n",
       "      <td>9056.653433</td>\n",
       "      <td>32</td>\n",
       "    </tr>\n",
       "    <tr>\n",
       "      <th>69</th>\n",
       "      <td>75.9</td>\n",
       "      <td>15513.696120</td>\n",
       "      <td>10</td>\n",
       "    </tr>\n",
       "    <tr>\n",
       "      <th>70</th>\n",
       "      <td>39.2</td>\n",
       "      <td>10020.277330</td>\n",
       "      <td>20</td>\n",
       "    </tr>\n",
       "    <tr>\n",
       "      <th>71</th>\n",
       "      <td>6.8</td>\n",
       "      <td>1497.506502</td>\n",
       "      <td>56</td>\n",
       "    </tr>\n",
       "    <tr>\n",
       "      <th>72</th>\n",
       "      <td>7.7</td>\n",
       "      <td>56336.072340</td>\n",
       "      <td>60</td>\n",
       "    </tr>\n",
       "    <tr>\n",
       "      <th>73</th>\n",
       "      <td>21.7</td>\n",
       "      <td>2074.710704</td>\n",
       "      <td>53</td>\n",
       "    </tr>\n",
       "    <tr>\n",
       "      <th>74</th>\n",
       "      <td>18.4</td>\n",
       "      <td>7962.365824</td>\n",
       "      <td>60</td>\n",
       "    </tr>\n",
       "    <tr>\n",
       "      <th>75</th>\n",
       "      <td>6.0</td>\n",
       "      <td>5941.840710</td>\n",
       "      <td>43</td>\n",
       "    </tr>\n",
       "    <tr>\n",
       "      <th>76</th>\n",
       "      <td>43.1</td>\n",
       "      <td>12127.225670</td>\n",
       "      <td>30</td>\n",
       "    </tr>\n",
       "    <tr>\n",
       "      <th>77</th>\n",
       "      <td>4.1</td>\n",
       "      <td>3104.658296</td>\n",
       "      <td>58</td>\n",
       "    </tr>\n",
       "    <tr>\n",
       "      <th>78</th>\n",
       "      <td>6.5</td>\n",
       "      <td>6650.061128</td>\n",
       "      <td>42</td>\n",
       "    </tr>\n",
       "  </tbody>\n",
       "</table>\n",
       "<p>79 rows × 3 columns</p>\n",
       "</div>"
      ],
      "text/plain": [
       "    EducationRate  GDPpercapita  ViolenceRate\n",
       "0           106.3  51733.481920             4\n",
       "1            80.7  14139.269430             6\n",
       "2            97.2   5045.769926            11\n",
       "3            71.0  57543.669060             7\n",
       "4            63.2   1740.915011            20\n",
       "5            60.0   5943.034472             9\n",
       "6            73.4   4855.800481             7\n",
       "7            60.8  12806.565110            14\n",
       "8            30.0   3461.781164            16\n",
       "9            91.8  97199.919100             9\n",
       "10           94.0  38778.074180             9\n",
       "11           91.4    706.238698            11\n",
       "12           82.5   1806.047295            10\n",
       "13           96.9  19949.581380            10\n",
       "14           75.9   3379.896499            12\n",
       "15           80.1   3415.813158            25\n",
       "16           64.1   4429.650075            12\n",
       "17           73.8  42294.994730            30\n",
       "18           41.9   6301.919127            52\n",
       "19          102.9   3994.712355             4\n",
       "20           48.5  11598.751740             9\n",
       "21           24.7    312.748979            22\n",
       "22           11.4   7853.335191            33\n",
       "23          101.9   4852.223666             4\n",
       "24           56.7  16261.799320            15\n",
       "25           79.0  24983.379020            21\n",
       "26           11.8   1619.342566            46\n",
       "27           92.3   7683.502613            12\n",
       "28           57.1    852.954308            11\n",
       "29           86.7    571.162276            18\n",
       "..            ...           ...           ...\n",
       "49           66.0   1818.180685            11\n",
       "50            3.6   4709.312024            90\n",
       "51           85.4    703.821657            16\n",
       "52            9.2   7497.762378            68\n",
       "53           27.8    377.132027            17\n",
       "54            3.2   1084.565430            44\n",
       "55            2.4  47379.173920            73\n",
       "56           14.0    461.568085            47\n",
       "57            1.5  50453.515350            80\n",
       "58            1.1   6368.934262            62\n",
       "59           58.8   5466.425778             4\n",
       "60           45.3   3327.754247            25\n",
       "61           20.2  34361.080220             7\n",
       "62            6.7    434.465647            92\n",
       "63           24.4    920.526235            16\n",
       "64           46.3  38096.211510            70\n",
       "65           33.0   9891.404494            39\n",
       "66           45.7    458.465173            10\n",
       "67           11.7   8805.624984            37\n",
       "68            4.6   9056.653433            32\n",
       "69           75.9  15513.696120            10\n",
       "70           39.2  10020.277330            20\n",
       "71            6.8   1497.506502            56\n",
       "72            7.7  56336.072340            60\n",
       "73           21.7   2074.710704            53\n",
       "74           18.4   7962.365824            60\n",
       "75            6.0   5941.840710            43\n",
       "76           43.1  12127.225670            30\n",
       "77            4.1   3104.658296            58\n",
       "78            6.5   6650.061128            42\n",
       "\n",
       "[79 rows x 3 columns]"
      ]
     },
     "execution_count": 1,
     "metadata": {},
     "output_type": "execute_result"
    }
   ],
   "source": [
    "import pandas as pd\n",
    "from pandas import *  \n",
    "import numpy as np  \n",
    "import matplotlib.pyplot as plt  \n",
    "%matplotlib inline\n",
    "import warnings\n",
    "warnings.filterwarnings('ignore')\n",
    "\n",
    "file=r'C:\\Users\\umut\\Desktop\\CS210 proje\\cs210projectdatas\\datas22.csv'\n",
    "data_education=pd.read_csv(file, sep=';')\n",
    "data_education_NoMissing=data_education.drop(data_education.columns[1:4], axis=1)\n",
    "data_education_NoMissing=data_education_NoMissing.drop(data_education_NoMissing.columns[2:], axis=1)\n",
    "data_education_NoMissing=data_education_NoMissing.dropna()\n",
    "data_education_NoMissing.rename(columns={\"LOCATION\":\"Country\",\"Education Rate\":\"EducationRate\"}, inplace=True)\n",
    "data_education_NoMissing.index=list(range(len(data_education_NoMissing)))\n",
    "data_education_NoMissing.index\n",
    "\n",
    "\n",
    "file1=r'C:\\Users\\umut\\Desktop\\CS210 proje\\cs210projectdatas\\WomanViolence.csv'\n",
    "data_violence=pd.read_csv(file1, sep=';')\n",
    "data_violence=data_violence.drop(['TIME'] , axis=1)\n",
    "data_violence_NoMissing=data_violence.dropna()\n",
    "data_violence_NoMissing.rename(columns={\"LOCATION\":\"Country\",\"Rate\":\"ViolenceRate\"}, inplace=True)\n",
    "data_violence_NoMissing.index=list(range(len(data_violence_NoMissing)))\n",
    "data_violence_NoMissing.index\n",
    "data= pd.merge(left=data_education_NoMissing, right=data_violence_NoMissing , on=['Country'] , how= 'left')\n",
    "\n",
    "\n",
    "file2=r'C:\\Users\\umut\\Desktop\\CS210 proje\\cs210projectdatas\\ER2.csv'\n",
    "data_er=pd.read_csv(file2,sep = ';')\n",
    "data1=pd.merge(left=data , right = data_er,on=['Country'] , how= 'left')\n",
    "data1=data1.drop(['Country'],axis=1)\n",
    "data1=data1.dropna()\n",
    "columnsTitles=[\"EducationRate\",\"GDPpercapita\",\"ViolenceRate\"]\n",
    "data1=data1.reindex(columns=columnsTitles)\n",
    "data1=data1.reset_index(drop=True)\n",
    "data1"
   ]
  },
  {
   "cell_type": "code",
   "execution_count": 2,
   "metadata": {},
   "outputs": [
    {
     "data": {
      "text/plain": [
       "<matplotlib.axes._subplots.AxesSubplot at 0x258162b78d0>"
      ]
     },
     "execution_count": 2,
     "metadata": {},
     "output_type": "execute_result"
    },
    {
     "data": {
      "image/png": "[encoded data removed]",
      "text/plain": [
       "<matplotlib.figure.Figure at 0x258161c9748>"
      ]
     },
     "metadata": {},
     "output_type": "display_data"
    }
   ],
   "source": [
    "trainData = data1[:52]\n",
    "features = trainData.values[:, :2]\n",
    "targetarray = trainData.values[:, 2:]\n",
    "\n",
    "testData = data1[52:]\n",
    "t_features = testData.values[:,:2]\n",
    "t_targetarray = testData.values[:,2:]\n",
    "\n",
    "fig, axs = plt.subplots(1, 2, sharey=True) \n",
    "trainData.plot(kind='scatter', x='EducationRate', y='ViolenceRate', ax=axs[0], figsize=(10, 8))\n",
    "trainData.plot(kind='scatter', x='GDPpercapita', y='ViolenceRate', ax=axs[1])"
   ]
  },
  {
   "cell_type": "code",
   "execution_count": 3,
   "metadata": {},
   "outputs": [
    {
     "data": {
      "text/plain": [
       "Intercept        48.997949\n",
       "EducationRate    -0.445282\n",
       "dtype: float64"
      ]
     },
     "execution_count": 3,
     "metadata": {},
     "output_type": "execute_result"
    }
   ],
   "source": [
    "import statsmodels.formula.api as smf\n",
    "lm = smf.ols(formula='ViolenceRate ~ EducationRate', data=trainData).fit()\n",
    "lm.params"
   ]
  },
  {
   "cell_type": "code",
   "execution_count": 4,
   "metadata": {},
   "outputs": [
    {
     "data": {
      "text/plain": [
       "16.314250199999996"
      ]
     },
     "execution_count": 4,
     "metadata": {},
     "output_type": "execute_result"
    }
   ],
   "source": [
    "48.997949 + (-0.445282)*73.4    #As an example we choosed Italy"
   ]
  },
  {
   "cell_type": "code",
   "execution_count": 5,
   "metadata": {},
   "outputs": [
    {
     "data": {
      "text/html": [
       "<div>\n",
       "<style scoped>\n",
       "    .dataframe tbody tr th:only-of-type {\n",
       "        vertical-align: middle;\n",
       "    }\n",
       "\n",
       "    .dataframe tbody tr th {\n",
       "        vertical-align: top;\n",
       "    }\n",
       "\n",
       "    .dataframe thead th {\n",
       "        text-align: right;\n",
       "    }\n",
       "</style>\n",
       "<table border=\"1\" class=\"dataframe\">\n",
       "  <thead>\n",
       "    <tr style=\"text-align: right;\">\n",
       "      <th></th>\n",
       "      <th>EducationRate</th>\n",
       "    </tr>\n",
       "  </thead>\n",
       "  <tbody>\n",
       "    <tr>\n",
       "      <th>0</th>\n",
       "      <td>73.4</td>\n",
       "    </tr>\n",
       "  </tbody>\n",
       "</table>\n",
       "</div>"
      ],
      "text/plain": [
       "   EducationRate\n",
       "0           73.4"
      ]
     },
     "execution_count": 5,
     "metadata": {},
     "output_type": "execute_result"
    }
   ],
   "source": [
    "X_new = pd.DataFrame({'EducationRate': [73.4]})\n",
    "X_new.head()"
   ]
  },
  {
   "cell_type": "code",
   "execution_count": 6,
   "metadata": {},
   "outputs": [
    {
     "data": {
      "text/plain": [
       "0    16.314218\n",
       "dtype: float64"
      ]
     },
     "execution_count": 6,
     "metadata": {},
     "output_type": "execute_result"
    }
   ],
   "source": [
    "lm.predict(X_new)"
   ]
  },
  {
   "cell_type": "code",
   "execution_count": 7,
   "metadata": {},
   "outputs": [
    {
     "data": {
      "text/html": [
       "<div>\n",
       "<style scoped>\n",
       "    .dataframe tbody tr th:only-of-type {\n",
       "        vertical-align: middle;\n",
       "    }\n",
       "\n",
       "    .dataframe tbody tr th {\n",
       "        vertical-align: top;\n",
       "    }\n",
       "\n",
       "    .dataframe thead th {\n",
       "        text-align: right;\n",
       "    }\n",
       "</style>\n",
       "<table border=\"1\" class=\"dataframe\">\n",
       "  <thead>\n",
       "    <tr style=\"text-align: right;\">\n",
       "      <th></th>\n",
       "      <th>EducationRate</th>\n",
       "    </tr>\n",
       "  </thead>\n",
       "  <tbody>\n",
       "    <tr>\n",
       "      <th>0</th>\n",
       "      <td>2.5</td>\n",
       "    </tr>\n",
       "    <tr>\n",
       "      <th>1</th>\n",
       "      <td>106.3</td>\n",
       "    </tr>\n",
       "  </tbody>\n",
       "</table>\n",
       "</div>"
      ],
      "text/plain": [
       "   EducationRate\n",
       "0            2.5\n",
       "1          106.3"
      ]
     },
     "execution_count": 7,
     "metadata": {},
     "output_type": "execute_result"
    }
   ],
   "source": [
    "X_new = pd.DataFrame({'EducationRate': [trainData.EducationRate.min(), trainData.EducationRate.max()]})\n",
    "X_new.head()"
   ]
  },
  {
   "cell_type": "code",
   "execution_count": 8,
   "metadata": {},
   "outputs": [
    {
     "data": {
      "text/plain": [
       "0    47.884743\n",
       "1     1.664426\n",
       "dtype: float64"
      ]
     },
     "execution_count": 8,
     "metadata": {},
     "output_type": "execute_result"
    }
   ],
   "source": [
    "preds = lm.predict(X_new)\n",
    "preds"
   ]
  },
  {
   "cell_type": "code",
   "execution_count": 9,
   "metadata": {},
   "outputs": [
    {
     "data": {
      "text/plain": [
       "[<matplotlib.lines.Line2D at 0x2581812d470>]"
      ]
     },
     "execution_count": 9,
     "metadata": {},
     "output_type": "execute_result"
    },
    {
     "data": {
      "image/png": "[encoded data removed]",
      "text/plain": [
       "<matplotlib.figure.Figure at 0x2581812d748>"
      ]
     },
     "metadata": {},
     "output_type": "display_data"
    }
   ],
   "source": [
    "trainData.plot(kind='scatter', x='EducationRate', y='ViolenceRate') #Plot Observed data\n",
    "plt.plot(X_new, preds, c='orange', linewidth=3)                     #Plot least squares line"
   ]
  },
  {
   "cell_type": "code",
   "execution_count": 10,
   "metadata": {},
   "outputs": [
    {
     "data": {
      "text/html": [
       "<div>\n",
       "<style scoped>\n",
       "    .dataframe tbody tr th:only-of-type {\n",
       "        vertical-align: middle;\n",
       "    }\n",
       "\n",
       "    .dataframe tbody tr th {\n",
       "        vertical-align: top;\n",
       "    }\n",
       "\n",
       "    .dataframe thead th {\n",
       "        text-align: right;\n",
       "    }\n",
       "</style>\n",
       "<table border=\"1\" class=\"dataframe\">\n",
       "  <thead>\n",
       "    <tr style=\"text-align: right;\">\n",
       "      <th></th>\n",
       "      <th>0</th>\n",
       "      <th>1</th>\n",
       "    </tr>\n",
       "  </thead>\n",
       "  <tbody>\n",
       "    <tr>\n",
       "      <th>Intercept</th>\n",
       "      <td>41.462175</td>\n",
       "      <td>56.533724</td>\n",
       "    </tr>\n",
       "    <tr>\n",
       "      <th>EducationRate</th>\n",
       "      <td>-0.560415</td>\n",
       "      <td>-0.330150</td>\n",
       "    </tr>\n",
       "  </tbody>\n",
       "</table>\n",
       "</div>"
      ],
      "text/plain": [
       "                       0          1\n",
       "Intercept      41.462175  56.533724\n",
       "EducationRate  -0.560415  -0.330150"
      ]
     },
     "execution_count": 10,
     "metadata": {},
     "output_type": "execute_result"
    }
   ],
   "source": [
    "lm.conf_int()"
   ]
  },
  {
   "cell_type": "code",
   "execution_count": 11,
   "metadata": {},
   "outputs": [
    {
     "data": {
      "text/plain": [
       "Intercept        9.770729e-18\n",
       "EducationRate    3.802296e-10\n",
       "dtype: float64"
      ]
     },
     "execution_count": 11,
     "metadata": {},
     "output_type": "execute_result"
    }
   ],
   "source": [
    "lm.pvalues"
   ]
  },
  {
   "cell_type": "code",
   "execution_count": 12,
   "metadata": {},
   "outputs": [
    {
     "data": {
      "text/plain": [
       "0.5468778921824813"
      ]
     },
     "execution_count": 12,
     "metadata": {},
     "output_type": "execute_result"
    }
   ],
   "source": [
    "lm.rsquared"
   ]
  },
  {
   "cell_type": "code",
   "execution_count": 13,
   "metadata": {},
   "outputs": [
    {
     "data": {
      "text/plain": [
       "Intercept        48.803631\n",
       "EducationRate    -0.459610\n",
       "GDPpercapita      0.000072\n",
       "dtype: float64"
      ]
     },
     "execution_count": 13,
     "metadata": {},
     "output_type": "execute_result"
    }
   ],
   "source": [
    "lm = smf.ols(formula='ViolenceRate ~ EducationRate + GDPpercapita', data=trainData).fit()\n",
    "lm.params"
   ]
  },
  {
   "cell_type": "code",
   "execution_count": 14,
   "metadata": {},
   "outputs": [
    {
     "data": {
      "text/html": [
       "<table class=\"simpletable\">\n",
       "<caption>OLS Regression Results</caption>\n",
       "<tr>\n",
       "  <th>Dep. Variable:</th>      <td>ViolenceRate</td>   <th>  R-squared:         </th> <td>   0.552</td>\n",
       "</tr>\n",
       "<tr>\n",
       "  <th>Model:</th>                   <td>OLS</td>       <th>  Adj. R-squared:    </th> <td>   0.534</td>\n",
       "</tr>\n",
       "<tr>\n",
       "  <th>Method:</th>             <td>Least Squares</td>  <th>  F-statistic:       </th> <td>   30.23</td>\n",
       "</tr>\n",
       "<tr>\n",
       "  <th>Date:</th>             <td>Mon, 21 May 2018</td> <th>  Prob (F-statistic):</th> <td>2.80e-09</td>\n",
       "</tr>\n",
       "<tr>\n",
       "  <th>Time:</th>                 <td>01:42:42</td>     <th>  Log-Likelihood:    </th> <td> -206.37</td>\n",
       "</tr>\n",
       "<tr>\n",
       "  <th>No. Observations:</th>      <td>    52</td>      <th>  AIC:               </th> <td>   418.7</td>\n",
       "</tr>\n",
       "<tr>\n",
       "  <th>Df Residuals:</th>          <td>    49</td>      <th>  BIC:               </th> <td>   424.6</td>\n",
       "</tr>\n",
       "<tr>\n",
       "  <th>Df Model:</th>              <td>     2</td>      <th>                     </th>     <td> </td>   \n",
       "</tr>\n",
       "<tr>\n",
       "  <th>Covariance Type:</th>      <td>nonrobust</td>    <th>                     </th>     <td> </td>   \n",
       "</tr>\n",
       "</table>\n",
       "<table class=\"simpletable\">\n",
       "<tr>\n",
       "        <td></td>           <th>coef</th>     <th>std err</th>      <th>t</th>      <th>P>|t|</th>  <th>[0.025</th>    <th>0.975]</th>  \n",
       "</tr>\n",
       "<tr>\n",
       "  <th>Intercept</th>     <td>   48.8036</td> <td>    3.775</td> <td>   12.928</td> <td> 0.000</td> <td>   41.217</td> <td>   56.390</td>\n",
       "</tr>\n",
       "<tr>\n",
       "  <th>EducationRate</th> <td>   -0.4596</td> <td>    0.060</td> <td>   -7.605</td> <td> 0.000</td> <td>   -0.581</td> <td>   -0.338</td>\n",
       "</tr>\n",
       "<tr>\n",
       "  <th>GDPpercapita</th>  <td> 7.241e-05</td> <td> 9.33e-05</td> <td>    0.776</td> <td> 0.441</td> <td>   -0.000</td> <td>    0.000</td>\n",
       "</tr>\n",
       "</table>\n",
       "<table class=\"simpletable\">\n",
       "<tr>\n",
       "  <th>Omnibus:</th>       <td>15.941</td> <th>  Durbin-Watson:     </th> <td>   1.773</td>\n",
       "</tr>\n",
       "<tr>\n",
       "  <th>Prob(Omnibus):</th> <td> 0.000</td> <th>  Jarque-Bera (JB):  </th> <td>  19.796</td>\n",
       "</tr>\n",
       "<tr>\n",
       "  <th>Skew:</th>          <td> 1.135</td> <th>  Prob(JB):          </th> <td>5.03e-05</td>\n",
       "</tr>\n",
       "<tr>\n",
       "  <th>Kurtosis:</th>      <td> 4.996</td> <th>  Cond. No.          </th> <td>5.14e+04</td>\n",
       "</tr>\n",
       "</table>"
      ],
      "text/plain": [
       "<class 'statsmodels.iolib.summary.Summary'>\n",
       "\"\"\"\n",
       "                            OLS Regression Results                            \n",
       "==============================================================================\n",
       "Dep. Variable:           ViolenceRate   R-squared:                       0.552\n",
       "Model:                            OLS   Adj. R-squared:                  0.534\n",
       "Method:                 Least Squares   F-statistic:                     30.23\n",
       "Date:                Mon, 21 May 2018   Prob (F-statistic):           2.80e-09\n",
       "Time:                        01:42:42   Log-Likelihood:                -206.37\n",
       "No. Observations:                  52   AIC:                             418.7\n",
       "Df Residuals:                      49   BIC:                             424.6\n",
       "Df Model:                           2                                         \n",
       "Covariance Type:            nonrobust                                         \n",
       "=================================================================================\n",
       "                    coef    std err          t      P>|t|      [0.025      0.975]\n",
       "---------------------------------------------------------------------------------\n",
       "Intercept        48.8036      3.775     12.928      0.000      41.217      56.390\n",
       "EducationRate    -0.4596      0.060     -7.605      0.000      -0.581      -0.338\n",
       "GDPpercapita   7.241e-05   9.33e-05      0.776      0.441      -0.000       0.000\n",
       "==============================================================================\n",
       "Omnibus:                       15.941   Durbin-Watson:                   1.773\n",
       "Prob(Omnibus):                  0.000   Jarque-Bera (JB):               19.796\n",
       "Skew:                           1.135   Prob(JB):                     5.03e-05\n",
       "Kurtosis:                       4.996   Cond. No.                     5.14e+04\n",
       "==============================================================================\n",
       "\n",
       "Warnings:\n",
       "[1] Standard Errors assume that the covariance matrix of the errors is correctly specified.\n",
       "[2] The condition number is large, 5.14e+04. This might indicate that there are\n",
       "strong multicollinearity or other numerical problems.\n",
       "\"\"\""
      ]
     },
     "execution_count": 14,
     "metadata": {},
     "output_type": "execute_result"
    }
   ],
   "source": [
    "lm.summary()"
   ]
  },
  {
   "cell_type": "code",
   "execution_count": 15,
   "metadata": {},
   "outputs": [
    {
     "data": {
      "text/plain": [
       "0.5468778921824813"
      ]
     },
     "execution_count": 15,
     "metadata": {},
     "output_type": "execute_result"
    }
   ],
   "source": [
    "lm = smf.ols(formula='ViolenceRate ~ EducationRate', data=trainData).fit()\n",
    "lm.rsquared"
   ]
  },
  {
   "cell_type": "code",
   "execution_count": 16,
   "metadata": {},
   "outputs": [
    {
     "data": {
      "text/plain": [
       "0.5523799400521094"
      ]
     },
     "execution_count": 16,
     "metadata": {},
     "output_type": "execute_result"
    }
   ],
   "source": [
    "lm = smf.ols(formula='ViolenceRate ~ EducationRate + GDPpercapita', data=trainData).fit()\n",
    "lm.rsquared"
   ]
  },
  {
   "cell_type": "code",
   "execution_count": null,
   "metadata": {},
   "outputs": [],
   "source": []
  }
 ],
 "metadata": {
  "kernelspec": {
   "display_name": "Python 3",
   "language": "python",
   "name": "python3"
  },
  "language_info": {
   "codemirror_mode": {
    "name": "ipython",
    "version": 3
   },
   "file_extension": ".py",
   "mimetype": "text/x-python",
   "name": "python",
   "nbconvert_exporter": "python",
   "pygments_lexer": "ipython3",
   "version": "3.6.4"
  }
 },
 "nbformat": 4,
 "nbformat_minor": 2
}
